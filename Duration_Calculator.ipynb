{
 "cells": [
  {
   "cell_type": "code",
   "execution_count": 4,
   "id": "fd09c3e4-1fb7-456d-ad85-ca6fcfe15497",
   "metadata": {},
   "outputs": [
    {
     "name": "stdin",
     "output_type": "stream",
     "text": [
      "Enter the age of the person in years:  70\n",
      "Enter the time unit (months, weeks, days, hours, minutes, seconds):  hours\n"
     ]
    },
    {
     "name": "stdout",
     "output_type": "stream",
     "text": [
      "The person has lived for 613620.0 hours.\n"
     ]
    }
   ],
   "source": [
    "def calculate_duration(age_years, unit):\n",
    "    \"\"\"\n",
    "    Calculate the duration a person lived in the given time unit based on their age in years.\n",
    "\n",
    "    :param age_years: int - Age of the person in years.\n",
    "    :param unit: str - The time unit for which the duration should be calculated.\n",
    "                      Options: 'months', 'weeks', 'days', 'hours', 'minutes', 'seconds'.\n",
    "    :return: float - The duration in the specified time unit.\n",
    "    \"\"\"\n",
    "\n",
    "    # Define the number of units per year\n",
    "    units_per_year = {\n",
    "        'months': 12,\n",
    "        'weeks': 52.1429,  # Approximate value considering 365.25 days per year\n",
    "        'days': 365.25,    # Average number of days per year considering leap years\n",
    "        'hours': 365.25 * 24,\n",
    "        'minutes': 365.25 * 24 * 60,\n",
    "        'seconds': 365.25 * 24 * 60 * 60\n",
    "    }\n",
    "\n",
    "    if unit not in units_per_year:\n",
    "        raise ValueError(f\"Unsupported time unit: {unit}\")\n",
    "\n",
    "    # Calculate the duration in the specified unit\n",
    "    duration = age_years * units_per_year[unit]\n",
    "    return duration\n",
    "\n",
    "if __name__ == \"__main__\":\n",
    "    # Input: Age of the person in years\n",
    "    age_years = int(input(\"Enter the age of the person in years: \"))\n",
    "\n",
    "    # Input: Time unit for the duration calculation\n",
    "    unit = input(\"Enter the time unit (months, weeks, days, hours, minutes, seconds): \").lower()\n",
    "\n",
    "    try:\n",
    "        # Calculate the duration\n",
    "        duration = calculate_duration(age_years, unit)\n",
    "        print(f\"The person has lived for {duration} {unit}.\")\n",
    "    except ValueError as e:\n",
    "        print(e)\n"
   ]
  },
  {
   "cell_type": "code",
   "execution_count": null,
   "id": "f1f942ca-689a-4b70-81c6-9343e12fcb8b",
   "metadata": {},
   "outputs": [],
   "source": []
  }
 ],
 "metadata": {
  "kernelspec": {
   "display_name": "Python 3 (ipykernel)",
   "language": "python",
   "name": "python3"
  },
  "language_info": {
   "codemirror_mode": {
    "name": "ipython",
    "version": 3
   },
   "file_extension": ".py",
   "mimetype": "text/x-python",
   "name": "python",
   "nbconvert_exporter": "python",
   "pygments_lexer": "ipython3",
   "version": "3.11.7"
  }
 },
 "nbformat": 4,
 "nbformat_minor": 5
}
